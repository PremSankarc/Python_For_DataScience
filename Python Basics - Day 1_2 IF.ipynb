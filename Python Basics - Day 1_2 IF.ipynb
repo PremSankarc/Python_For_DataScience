{
 "cells": [
  {
   "cell_type": "markdown",
   "metadata": {},
   "source": [
    "# Selection (if) statements"
   ]
  },
  {
   "cell_type": "code",
   "execution_count": 1,
   "metadata": {},
   "outputs": [
    {
     "name": "stdout",
     "output_type": "stream",
     "text": [
      "Do you wish to buy a ticket?y\n"
     ]
    }
   ],
   "source": [
    "# Section 2 - Selection (if) statements\n",
    "# Example 21 – A simple If statement\n",
    "\n",
    "ticket = str(input(\"Do you wish to buy a ticket?\"))\n",
    "if ticket == \"Y\":\n",
    "\tprint(\"Welcome to the ticket office.\")"
   ]
  },
  {
   "cell_type": "code",
   "execution_count": 2,
   "metadata": {},
   "outputs": [
    {
     "name": "stdout",
     "output_type": "stream",
     "text": [
      "Do you wish to buy a ticket?Y\n",
      "Welcome to the ticket office.\n"
     ]
    }
   ],
   "source": [
    "# Section 2 - Selection (if) statements\n",
    "# Example 22 - An ‘else’ statement\n",
    "\n",
    "ticket = str(input(\"Do you wish to buy a ticket?\"))\n",
    "if ticket == \"Y\":\n",
    "\tprint(\"Welcome to the ticket office.\")\n",
    "else:\n",
    "\tprint(\"We are sorry to hear that.\")\n",
    "\tprint(\"Please return soon.\")\n"
   ]
  },
  {
   "cell_type": "code",
   "execution_count": 3,
   "metadata": {},
   "outputs": [
    {
     "name": "stdout",
     "output_type": "stream",
     "text": [
      "Please enter a year.7954\n",
      "Man has walked on the moon!\n"
     ]
    }
   ],
   "source": [
    "# Section 2 - Selection (if) statements\n",
    "# Example 23 – An If statement with mathematical operators\n",
    "\n",
    "year = int(input(\"Please enter a year.\"))\n",
    "if year < 1969:\n",
    "\tprint(\"No moon landings yet.\")\n",
    "if year >= 1969:\n",
    "\tprint(\"Man has walked on the moon!\")"
   ]
  },
  {
   "cell_type": "code",
   "execution_count": 4,
   "metadata": {},
   "outputs": [
    {
     "name": "stdout",
     "output_type": "stream",
     "text": [
      "Do you wish to buy a ticket?Y\n",
      "Welcome to the ticket office.\n",
      "Please enter your age12\n",
      "Please purchase a junior ticket\n"
     ]
    }
   ],
   "source": [
    "# Section 2 - Selection (if) statements\n",
    "# Example 24 – Complex conditions (AND, OR)\n",
    "\n",
    "ticket = str(input(\"Do you wish to buy a ticket?\"))\n",
    "if ticket == \"Y\":\n",
    "\tprint(\"Welcome to the ticket office.\")\n",
    "else:\n",
    "\tprint(\"We are sorry to hear that.\")\n",
    "\tprint(\"Please return soon.\")\n",
    "age = int(input(\"Please enter your age\"))\n",
    "if age >= 5 and age <= 17:\n",
    "\tprint(\"Please purchase a junior ticket\")\n",
    "if age > 17 and age < 65:\n",
    "\tprint(\"Please purchase an adult ticket\")\n",
    "if age >= 65:\n",
    "\tprint(\"You are entitled to a senior ticket\")\n"
   ]
  },
  {
   "cell_type": "code",
   "execution_count": 5,
   "metadata": {},
   "outputs": [
    {
     "name": "stdout",
     "output_type": "stream",
     "text": [
      "Do you wish to buy a ticket?12\n",
      "We are sorry to hear that.\n",
      "Please return soon.\n"
     ]
    }
   ],
   "source": [
    "# Section 2 - Selection (if) statements\n",
    "# Example 24 – Complex conditions (AND, OR)\n",
    "# Efficient version\n",
    "\n",
    "ticket = str(input(\"Do you wish to buy a ticket?\"))\n",
    "if ticket == \"Y\":\n",
    "\tprint(\"Welcome to the ticket office.\")\n",
    "\tage = int(input(\"Please enter your age\"))\n",
    "\tif age >= 5 and age <= 17:\n",
    "\t\tprint(\"Please purchase a junior ticket\")\n",
    "\tif age > 17 and age < 65:\n",
    "\t\tprint(\"Please purchase an adult ticket\")\n",
    "\tif age >= 65:\n",
    "\t\tprint(\"You are entitled to a senior ticket\")\n",
    "else:\n",
    "\tprint(\"We are sorry to hear that.\")\n",
    "\tprint(\"Please return soon.\")\n"
   ]
  },
  {
   "cell_type": "code",
   "execution_count": 6,
   "metadata": {},
   "outputs": [
    {
     "name": "stdout",
     "output_type": "stream",
     "text": [
      "Please enter your age22\n",
      "Please purchase an adult ticket\n"
     ]
    }
   ],
   "source": [
    "# Section 2 - Selection (if) statements\n",
    "# Example 25 - Else if (elif)\n",
    "\n",
    "age = int(input(\"Please enter your age\"))\n",
    "if age >= 0 and age < 5:\n",
    "\tprint(\"Sorry, You are too young to attend\")\n",
    "elif age >= 5 and age < 18:\n",
    "\tprint(\"Please purchase a junior ticket\")\n",
    "elif age >= 18 and age < 65:\n",
    "\tprint(\"Please purchase an adult ticket\")\n",
    "elif age >= 65:\n",
    "\tprint(\"You are entitled to a senior ticket\")\n",
    "else:\n",
    "    print(\"Invalid age\")"
   ]
  },
  {
   "cell_type": "code",
   "execution_count": 7,
   "metadata": {},
   "outputs": [
    {
     "name": "stdout",
     "output_type": "stream",
     "text": [
      "Please enter your score.22\n",
      "You did not hit the target scores.\n"
     ]
    }
   ],
   "source": [
    "# Section 2 - Selection (if) statements\n",
    "# Example 26 - The ‘not’ operator\n",
    "\n",
    "score = int(input(\"Please enter your score.\"))\n",
    "if not(score == 76 or score == 58):\n",
    "    print(\"You did not hit the target scores.\")\n",
    "else:\n",
    "    print(\"Well done, target score achieved.\")"
   ]
  },
  {
   "cell_type": "code",
   "execution_count": 8,
   "metadata": {},
   "outputs": [
    {
     "name": "stdout",
     "output_type": "stream",
     "text": [
      "Please enter your score.22\n",
      "You did not hit the target scores.\n"
     ]
    }
   ],
   "source": [
    "# Section 2 - Selection (if) statements\n",
    "# Example 26 - The ‘not’ operator\n",
    "# Alternative conditions\n",
    "\n",
    "score = int(input(\"Please enter your score.\"))\n",
    "if score == 76 or score == 58:\n",
    "\tprint(\"Well done, target score achieved.\")\n",
    "else:\n",
    "\tprint(\"You did not hit the target scores.\")"
   ]
  },
  {
   "cell_type": "code",
   "execution_count": 9,
   "metadata": {},
   "outputs": [
    {
     "name": "stdout",
     "output_type": "stream",
     "text": [
      "Please enter your score.45\n",
      "Please enter your score.45\n",
      "Please enter your score.23\n",
      "Well done. That’s the correct combination of scores.\n"
     ]
    }
   ],
   "source": [
    "# Section 2 - Selection (if) statements\n",
    "# Example 27 – Building more complex if statements\n",
    "\n",
    "score = int(input(\"Please enter your score.\"))\n",
    "score2 = int(input(\"Please enter your score.\"))\n",
    "score3 = int(input(\"Please enter your score.\"))\n",
    "if ((score >= 23 and score <=33) or (score2 >= 45 and score2 <= 55)) and score3 != 0:\n",
    "\tprint(\"Well done. That’s the correct combination of scores.\")\n",
    "else:\n",
    "    print(\"You did not achieve the correct combination of scores.\")"
   ]
  }
 ],
 "metadata": {
  "kernelspec": {
   "display_name": "Python 3",
   "language": "python",
   "name": "python3"
  },
  "language_info": {
   "codemirror_mode": {
    "name": "ipython",
    "version": 3
   },
   "file_extension": ".py",
   "mimetype": "text/x-python",
   "name": "python",
   "nbconvert_exporter": "python",
   "pygments_lexer": "ipython3",
   "version": "3.7.0"
  }
 },
 "nbformat": 4,
 "nbformat_minor": 4
}
