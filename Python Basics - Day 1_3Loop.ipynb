{
 "cells": [
  {
   "cell_type": "markdown",
   "metadata": {},
   "source": [
    "# Repetition (loop) statements"
   ]
  },
  {
   "cell_type": "code",
   "execution_count": 1,
   "metadata": {},
   "outputs": [
    {
     "name": "stdout",
     "output_type": "stream",
     "text": [
      "This is a fixed loop.\n",
      "This is a fixed loop.\n",
      "This is a fixed loop.\n",
      "This is a fixed loop.\n"
     ]
    }
   ],
   "source": [
    "# Section 3 - Repetition (Loop) Statements\n",
    "# Example 28 – A simple fixed loop\n",
    "\n",
    "for counter in range(4):\n",
    "\tprint(\"This is a fixed loop.\")"
   ]
  },
  {
   "cell_type": "code",
   "execution_count": 3,
   "metadata": {},
   "outputs": [
    {
     "name": "stdout",
     "output_type": "stream",
     "text": [
      "Enter a number3\n",
      "I must try harder.\n",
      "I must try harder.\n",
      "I must try harder.\n"
     ]
    }
   ],
   "source": [
    "# Section 3 - Repetition (Loop) Statements\n",
    "# Example 29 – A fixed loop with user input\n",
    "\n",
    "times = int(input(\"Enter a number\"))\n",
    "for counter in range(times):\n",
    "\tprint(\"I must try harder.\")"
   ]
  },
  {
   "cell_type": "code",
   "execution_count": 4,
   "metadata": {},
   "outputs": [
    {
     "name": "stdout",
     "output_type": "stream",
     "text": [
      "0\n",
      "1\n",
      "2\n",
      "3\n",
      "4\n"
     ]
    }
   ],
   "source": [
    "# Section 3 - Repetition (Loop) Statements\n",
    "# Example 30 – The loop variable\n",
    "\n",
    "for money in range(5):\n",
    " \tprint(money)"
   ]
  },
  {
   "cell_type": "code",
   "execution_count": 5,
   "metadata": {},
   "outputs": [
    {
     "name": "stdout",
     "output_type": "stream",
     "text": [
      "Please enter the 3 test marks\n",
      "Please enter test 1\n",
      "12\n",
      "Please enter test 2\n",
      "22\n",
      "Please enter test 3\n",
      "33\n",
      "The total number of marks = 67\n"
     ]
    }
   ],
   "source": [
    "# Section 3 - Repetition (Loop) Statements\n",
    "# Example 31 – Using the range( ) statement\n",
    "\n",
    "total = 0\n",
    "print(\"Please enter the 3 test marks\")\n",
    "for counter in range(1,4):\n",
    " \tprint(\"Please enter test\",counter)\n",
    " \tmark = int(input())\n",
    " \ttotal = total + mark\n",
    "print(\"The total number of marks =\",total)"
   ]
  },
  {
   "cell_type": "code",
   "execution_count": 7,
   "metadata": {},
   "outputs": [
    {
     "name": "stdout",
     "output_type": "stream",
     "text": [
      "1\n",
      "5\n",
      "9\n",
      "13\n",
      "17\n"
     ]
    }
   ],
   "source": [
    "# Section 3 - Repetition (Loop) Statements\n",
    "# Example 32 – Adding a step to the range( ) statement\n",
    "\n",
    "for oranges in range(1,21,4):\n",
    "     print(oranges)"
   ]
  },
  {
   "cell_type": "code",
   "execution_count": 8,
   "metadata": {},
   "outputs": [
    {
     "name": "stdout",
     "output_type": "stream",
     "text": [
      "30\n",
      "24\n",
      "18\n",
      "12\n",
      "6\n"
     ]
    }
   ],
   "source": [
    "# Section 3 - Repetition (Loop) Statements\n",
    "# Example 32 – Adding a step to the range( ) statement\n",
    "# Negative step\n",
    "\n",
    "for apples in range(30,1,-6):\n",
    " \tprint(apples)\n"
   ]
  },
  {
   "cell_type": "code",
   "execution_count": 9,
   "metadata": {},
   "outputs": [
    {
     "name": "stdout",
     "output_type": "stream",
     "text": [
      "Make your choice - Y/N.n\n",
      "Make your choice - Y/N.N\n",
      "Thank you for making your choice.\n"
     ]
    }
   ],
   "source": [
    "# Section 3 - Repetition (Loop) Statements\n",
    "# Example 33 – A conditional loop\n",
    "\n",
    "choice = \"\"\n",
    "while choice != \"Y\" and choice != \"N\":\n",
    " \tchoice = str(input(\"Make your choice - Y/N.\"))\n",
    "print(\"Thank you for making your choice.\")"
   ]
  },
  {
   "cell_type": "code",
   "execution_count": 10,
   "metadata": {},
   "outputs": [
    {
     "name": "stdout",
     "output_type": "stream",
     "text": [
      "Please enter your score.1\n",
      "Your score must be between 10 and 20 inclusive.\n",
      "Please enter your score.22\n",
      "Your score must be between 10 and 20 inclusive.\n",
      "Please enter your score.5\n",
      "Your score must be between 10 and 20 inclusive.\n",
      "Please enter your score.15\n"
     ]
    }
   ],
   "source": [
    "# Section 3 - Repetition (Loop) Statements\n",
    "# Example 34 – Input Validation\n",
    "\n",
    "score = int(input(\"Please enter your score.\"))\n",
    "while not(score >= 10 and score <= 20):\n",
    "    print(\"Your score must be between 10 and 20 inclusive.\")\n",
    "    score = int(input(\"Please enter your score.\"))"
   ]
  },
  {
   "cell_type": "code",
   "execution_count": null,
   "metadata": {},
   "outputs": [],
   "source": []
  }
 ],
 "metadata": {
  "kernelspec": {
   "display_name": "Python 3",
   "language": "python",
   "name": "python3"
  },
  "language_info": {
   "codemirror_mode": {
    "name": "ipython",
    "version": 3
   },
   "file_extension": ".py",
   "mimetype": "text/x-python",
   "name": "python",
   "nbconvert_exporter": "python",
   "pygments_lexer": "ipython3",
   "version": "3.7.0"
  }
 },
 "nbformat": 4,
 "nbformat_minor": 4
}
