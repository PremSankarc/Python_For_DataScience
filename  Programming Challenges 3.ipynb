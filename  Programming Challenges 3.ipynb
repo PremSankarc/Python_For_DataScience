{
 "cells": [
  {
   "cell_type": "markdown",
   "metadata": {},
   "source": [
    "# Programming Challenges 3"
   ]
  },
  {
   "cell_type": "markdown",
   "metadata": {},
   "source": [
    "# Repetition (loop) Challenges"
   ]
  },
  {
   "cell_type": "code",
   "execution_count": 1,
   "metadata": {},
   "outputs": [
    {
     "name": "stdout",
     "output_type": "stream",
     "text": [
      "Which sentence would you like copied?g\n"
     ]
    }
   ],
   "source": [
    "## Lines Cheat\n",
    "## Program 28\n",
    "## With Comments\n",
    "\n",
    "## The user is asked to input a sentence (string):\n",
    "\n",
    "sentence = str(input(\"Which sentence would you like copied?\"))\n",
    "\n",
    "## The program then loops 20 times.\n",
    "## A print statement inside the loop displays the sentence 20 times.\n",
    "\n",
    "\n",
    "\n",
    "## NOTE\n",
    "## The print statement is indented (moved in from the left)\n",
    "## This is how python identifies that print statement is\n",
    "## inside the loop structure and should be repeated."
   ]
  },
  {
   "cell_type": "code",
   "execution_count": 2,
   "metadata": {},
   "outputs": [
    {
     "name": "stdout",
     "output_type": "stream",
     "text": [
      "Please enter the score for each ball.\n",
      "This over’s score was: 0\n"
     ]
    }
   ],
   "source": [
    "## Cricket Over\n",
    "## Program 31\n",
    "## With Comments\n",
    "\n",
    "## A total variable is set to 0.  This will be used later.\n",
    "## An initial message is displayed:\n",
    "\n",
    "total = 0\n",
    "print(\"Please enter the score for each ball.\")\n",
    "\n",
    "## In this challenge an input is placed inside a loop.\n",
    "## The loop repeats the following 6 times\n",
    "##   - the user is asked for an input (ball score)\n",
    "##   - each input is added onto the total.\n",
    "\n",
    "\n",
    "## A message with the final total is displayed.\n",
    "\n",
    "print(\"This over’s score was:\",total)"
   ]
  },
  {
   "cell_type": "code",
   "execution_count": 3,
   "metadata": {},
   "outputs": [
    {
     "name": "stdout",
     "output_type": "stream",
     "text": [
      "Please enter the seven temperatures.\n",
      "This week’s average was:\n"
     ]
    },
    {
     "ename": "NameError",
     "evalue": "name 'average' is not defined",
     "output_type": "error",
     "traceback": [
      "\u001b[0;31m---------------------------------------------------------------------------\u001b[0m",
      "\u001b[0;31mNameError\u001b[0m                                 Traceback (most recent call last)",
      "\u001b[0;32m<ipython-input-3-b92858f02345>\u001b[0m in \u001b[0;36m<module>\u001b[0;34m\u001b[0m\n\u001b[1;32m     19\u001b[0m \u001b[0;34m\u001b[0m\u001b[0m\n\u001b[1;32m     20\u001b[0m \u001b[0mprint\u001b[0m\u001b[0;34m(\u001b[0m\u001b[0;34m\"This week’s average was:\"\u001b[0m\u001b[0;34m)\u001b[0m\u001b[0;34m\u001b[0m\u001b[0;34m\u001b[0m\u001b[0m\n\u001b[0;32m---> 21\u001b[0;31m \u001b[0mprint\u001b[0m\u001b[0;34m(\u001b[0m\u001b[0mround\u001b[0m\u001b[0;34m(\u001b[0m\u001b[0maverage\u001b[0m\u001b[0;34m,\u001b[0m\u001b[0;36m2\u001b[0m\u001b[0;34m)\u001b[0m\u001b[0;34m,\u001b[0m\u001b[0;34m\"degrees centigrade\"\u001b[0m\u001b[0;34m)\u001b[0m\u001b[0;34m\u001b[0m\u001b[0;34m\u001b[0m\u001b[0m\n\u001b[0m",
      "\u001b[0;31mNameError\u001b[0m: name 'average' is not defined"
     ]
    }
   ],
   "source": [
    "## Average Temperature\n",
    "## Program 32\n",
    "## With Comments\n",
    "\n",
    "## A total variable is set to 0.  This will be used later.\n",
    "## An initial message is displayed:\n",
    "\n",
    "total = 0\n",
    "print(\"Please enter the seven temperatures.\")\n",
    "\n",
    "## In this challenge an input is placed inside a loop.\n",
    "## The loop repeats the following 7 times\n",
    "##   - the user is asked for an input (temperature)\n",
    "##   - each input is added onto the total.\n",
    "\n",
    "\n",
    "## The total is divided by 7 to get the average.\n",
    "## A message with the final average is displayed.\n",
    "\n",
    "print(\"This week’s average was:\")\n",
    "print(round(average,2),\"degrees centigrade\")"
   ]
  },
  {
   "cell_type": "code",
   "execution_count": 4,
   "metadata": {},
   "outputs": [
    {
     "name": "stdout",
     "output_type": "stream",
     "text": [
      "Which sentence would you like copied?d\n",
      "How many times would you like this copied?4\n"
     ]
    }
   ],
   "source": [
    "## Lines Cheat - Part 2\n",
    "## Program 33\n",
    "## With Comments\n",
    "\n",
    "## The user is then asked to input a sentence (string) as before:\n",
    "\n",
    "sentence = str(input(\"Which sentence would you like copied?\"))\n",
    "\n",
    "## The user is then asked to input the number of times the sentence:\n",
    "\n",
    "times = int(input(\"How many times would you like this copied?\"))\n",
    "\n",
    "## The program then loops the number of times entered by the user\n",
    "## by using the variable from earlier in the range().\n",
    "\n"
   ]
  },
  {
   "cell_type": "code",
   "execution_count": 5,
   "metadata": {},
   "outputs": [
    {
     "name": "stdout",
     "output_type": "stream",
     "text": [
      "Odd Numbers List\n"
     ]
    }
   ],
   "source": [
    "## Number Patterns\n",
    "## Program 36\n",
    "## With Comments\n",
    "\n",
    "## The program first displays a message.\n",
    "\n",
    "print(\"Odd Numbers List\")\n",
    "\n",
    "## The loop uses a step to ensure only ever second number is displayed.\n",
    "## The first two values in the range control which numbers are displayed.\n"
   ]
  },
  {
   "cell_type": "code",
   "execution_count": 6,
   "metadata": {},
   "outputs": [
    {
     "name": "stdout",
     "output_type": "stream",
     "text": [
      "Entry gained!\n"
     ]
    }
   ],
   "source": [
    "## Password\n",
    "## Program 38\n",
    "## With Comments\n",
    "\n",
    "## The password is stored in a variable.\n",
    "\n",
    "password = \"physics\"\n",
    "\n",
    "## This program uses a while loop.\n",
    "## This will keep repeating while the users input is not equal to the password.\n",
    "\n",
    "\n",
    "## The print statement below is only displayed when the program exits\n",
    "## the above loop.\n",
    "print(\"Entry gained!\")"
   ]
  },
  {
   "cell_type": "code",
   "execution_count": null,
   "metadata": {},
   "outputs": [],
   "source": [
    "## No more presents\n",
    "## Program 41\n",
    "## With Comments\n",
    "\n",
    "## As a running total of the present cost will be stored it must\n",
    "## first be initialised to 0.\n",
    "\n",
    "totalCost = 0\n",
    "\n",
    "## The program should loop until the total cost of the presents is at least 200.\n",
    "\n",
    "print(\"Please enter the price of each present:\")\n",
    "\n",
    "\n",
    "## After the program exits the loop the value of the last present is displayed\n",
    "## in a message.\n",
    "\n",
    "\n",
    "\n",
    "## Note - the challenge doesn't require you to make sure the correct total cost\n",
    "## is stored.  Another line, after the loop, taking the cost of the last present\n",
    "## back off the total would solve that issue.\n",
    "## totalCost = totalCost - cost"
   ]
  },
  {
   "cell_type": "code",
   "execution_count": null,
   "metadata": {},
   "outputs": [],
   "source": [
    "## Menu System\n",
    "## Program 42\n",
    "## With Comments\n",
    "\n",
    "## The program itself is a simple loop.  The complexity of this\n",
    "## program is in the complexity of the condition in the loop.\n",
    "\n",
    "selection = \"\"\n",
    "\n",
    "while selection != \"Q\" and selection != \"A\" and selection != \"K\" and selection != \"L\":\n",
    "    selection = str(input(\"Enter your menu choice (Q, A, K or L)\"))\n",
    "    selection = selection.upper()\n",
    "\n",
    "    ## An error message is generated using an if statement to display a message\n",
    "    ## if the user does not give a valid input.\n",
    "    ## Note:\n",
    "    ## The condition of the if statement required to generate the error message\n",
    "    ## should be the same as the while loop.  For variety the if statement\n",
    "    ## below once agaiin demonstrates that the same condition can be written\n",
    "    ## in several ways.\n",
    "    if not(selection==\"Q\" or selection == \"A\" or selection == \"K\" or selection == \"L\"):\n",
    "        print(selection,\"is not valid. Enter Q, A, K or L\")\n",
    "\n",
    "## The print statement below is only displayed when the program exits\n",
    "## the above loop.\n",
    "print(selection,\"selected\")"
   ]
  },
  {
   "cell_type": "code",
   "execution_count": 7,
   "metadata": {},
   "outputs": [
    {
     "ename": "SyntaxError",
     "evalue": "invalid syntax (<ipython-input-7-7d92b75a6776>, line 25)",
     "output_type": "error",
     "traceback": [
      "\u001b[0;36m  File \u001b[0;32m\"<ipython-input-7-7d92b75a6776>\"\u001b[0;36m, line \u001b[0;32m25\u001b[0m\n\u001b[0;31m    elif guess < an\u001b[0m\n\u001b[0m                   ^\u001b[0m\n\u001b[0;31mSyntaxError\u001b[0m\u001b[0;31m:\u001b[0m invalid syntax\n"
     ]
    }
   ],
   "source": [
    "## Guess the Number\n",
    "## Program 43\n",
    "## With Comments\n",
    "\n",
    "## First the program has to store the answer and a default\n",
    "## value for the users guess.\n",
    "\n",
    "answer = 37\n",
    "guess = 0\n",
    "\n",
    "print(\"Guess the hidden number between 1 and 100\")\n",
    "## The loop stops when the users guess is equal to the answer.\n",
    "while answer != guess:\n",
    "    guess = int(input(\"Enter your guess.\"))\n",
    "\n",
    "    ## A second loop is used to validate that the guess is between 1 and 100\n",
    "    while guess<1 or guess>100:\n",
    "        print(\"Your guess was not valid. Enter it again.\")\n",
    "        guess = int(input(\"Enter your guess.\"))\n",
    "\n",
    "    ## A complex if statements is used to inform the user of whether\n",
    "    ## their guess was correct, too high or too low.\n",
    "    if answer == guess:\n",
    "        print(\"Correct! Well Done\")\n",
    "    elif guess < an\n",
    "        print(\"Your guess is too low. Try again\")\n",
    "    else:swer:\n",
    "        print(\"Your guess is too high. Try again\")"
   ]
  },
  {
   "cell_type": "code",
   "execution_count": 8,
   "metadata": {},
   "outputs": [
    {
     "name": "stdout",
     "output_type": "stream",
     "text": [
      "Week 1\n",
      "Please enter the seven temperatures.\n",
      "d\n"
     ]
    },
    {
     "ename": "ValueError",
     "evalue": "invalid literal for int() with base 10: 'd'",
     "output_type": "error",
     "traceback": [
      "\u001b[0;31m---------------------------------------------------------------------------\u001b[0m",
      "\u001b[0;31mValueError\u001b[0m                                Traceback (most recent call last)",
      "\u001b[0;32m<ipython-input-8-1269ef693207>\u001b[0m in \u001b[0;36m<module>\u001b[0;34m\u001b[0m\n\u001b[1;32m     15\u001b[0m \u001b[0;34m\u001b[0m\u001b[0m\n\u001b[1;32m     16\u001b[0m     \u001b[0;32mfor\u001b[0m \u001b[0mloop\u001b[0m \u001b[0;32min\u001b[0m \u001b[0mrange\u001b[0m\u001b[0;34m(\u001b[0m\u001b[0;36m7\u001b[0m\u001b[0;34m)\u001b[0m\u001b[0;34m:\u001b[0m\u001b[0;34m\u001b[0m\u001b[0;34m\u001b[0m\u001b[0m\n\u001b[0;32m---> 17\u001b[0;31m         \u001b[0mtemperature\u001b[0m \u001b[0;34m=\u001b[0m \u001b[0mint\u001b[0m\u001b[0;34m(\u001b[0m\u001b[0minput\u001b[0m\u001b[0;34m(\u001b[0m\u001b[0;34m)\u001b[0m\u001b[0;34m)\u001b[0m\u001b[0;34m\u001b[0m\u001b[0;34m\u001b[0m\u001b[0m\n\u001b[0m\u001b[1;32m     18\u001b[0m \u001b[0;34m\u001b[0m\u001b[0m\n\u001b[1;32m     19\u001b[0m         \u001b[0;32mwhile\u001b[0m \u001b[0;32mnot\u001b[0m\u001b[0;34m(\u001b[0m\u001b[0mtemperature\u001b[0m \u001b[0;34m>=\u001b[0m \u001b[0;34m-\u001b[0m\u001b[0;36m40\u001b[0m \u001b[0;32mand\u001b[0m \u001b[0mtemperature\u001b[0m \u001b[0;34m<=\u001b[0m \u001b[0;36m55\u001b[0m\u001b[0;34m)\u001b[0m\u001b[0;34m:\u001b[0m\u001b[0;34m\u001b[0m\u001b[0;34m\u001b[0m\u001b[0m\n",
      "\u001b[0;31mValueError\u001b[0m: invalid literal for int() with base 10: 'd'"
     ]
    }
   ],
   "source": [
    "## Average Temperature - Part 2\n",
    "## Program 44\n",
    "## With Comments\n",
    "\n",
    "## A fixed loop is added so that the original code repeats 4 times using\n",
    "## the range(1,5)\n",
    "for weeks in range(1,5):\n",
    "    ## The loop variable 'weeks' is used to display a diffferent numbered\n",
    "    ## week each repetition.\n",
    "    print(\"Week\",weeks)\n",
    "\n",
    "    ## The previous code is indented (moved right) so that it is inside the loop.\n",
    "    total = 0\n",
    "    print(\"Please enter the seven temperatures.\")\n",
    "\n",
    "    for loop in range(7):\n",
    "        temperature = int(input())\n",
    "\n",
    "        while not(temperature >= -40 and temperature <= 55):\n",
    "            print(\"Temperature should be between -40 and 55\")\n",
    "            temperature = int(input())\n",
    "\n",
    "        total = total + temperature\n",
    "\n",
    "    average = total/7\n",
    "\n",
    "    ## The loop variable is used again in the output to ensure the correct\n",
    "    ## week number is displayed each repetition.\n",
    "    print(\"Week\",weeks,\"average was:\")\n",
    "\n",
    "    print(round(average,2),\"degrees centigrade\")"
   ]
  },
  {
   "cell_type": "code",
   "execution_count": null,
   "metadata": {},
   "outputs": [],
   "source": [
    "## Average Temperature - Part 2\n",
    "## Program 44\n",
    "## With Comments\n",
    "\n",
    "## A fixed loop is added so that the original code repeats 4 times using\n",
    "## the range(1,5)\n",
    "for weeks in range(1,5):\n",
    "    ## The loop variable 'weeks' is used to display a diffferent numbered\n",
    "    ## week each repetition.\n",
    "    print(\"Week\",weeks)\n",
    "\n",
    "    ## The previous code is indented (moved right) so that it is inside the loop.\n",
    "    total = 0\n",
    "    print(\"Please enter the seven temperatures.\")\n",
    "\n",
    "    for loop in range(7):\n",
    "        temperature = int(input())\n",
    "\n",
    "        while not(temperature >= -40 and temperature <= 55):\n",
    "            print(\"Temperature should be between -40 and 55\")\n",
    "            temperature = int(input())\n",
    "\n",
    "        total = total + temperature\n",
    "\n",
    "    average = total/7\n",
    "\n",
    "    ## The loop variable is used again in the output to ensure the correct\n",
    "    ## week number is displayed each repetition.\n",
    "    print(\"Week\",weeks,\"average was:\")\n",
    "\n",
    "    print(round(average,2),\"degrees centigrade\")"
   ]
  },
  {
   "cell_type": "code",
   "execution_count": null,
   "metadata": {},
   "outputs": [],
   "source": []
  }
 ],
 "metadata": {
  "kernelspec": {
   "display_name": "Python 3",
   "language": "python",
   "name": "python3"
  },
  "language_info": {
   "codemirror_mode": {
    "name": "ipython",
    "version": 3
   },
   "file_extension": ".py",
   "mimetype": "text/x-python",
   "name": "python",
   "nbconvert_exporter": "python",
   "pygments_lexer": "ipython3",
   "version": "3.8.3"
  }
 },
 "nbformat": 4,
 "nbformat_minor": 4
}
