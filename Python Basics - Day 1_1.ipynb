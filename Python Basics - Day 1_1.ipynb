{
 "cells": [
  {
   "cell_type": "markdown",
   "metadata": {},
   "source": [
    "#  Input, Output & Simple Calculations"
   ]
  },
  {
   "cell_type": "code",
   "execution_count": 2,
   "metadata": {},
   "outputs": [
    {
     "name": "stdout",
     "output_type": "stream",
     "text": [
      "Hello World\n",
      "I am\n",
      "36\n",
      "years old.\n"
     ]
    }
   ],
   "source": [
    "# Section 1 - Input, Output & Simple Calculations\n",
    "# Example 1 – Output using a simple print( ) statement\n",
    "\n",
    "print(\"Hello World\")\n",
    "print(\"I am\")\n",
    "print(36)\n",
    "print(\"years old.\")"
   ]
  },
  {
   "cell_type": "code",
   "execution_count": 4,
   "metadata": {},
   "outputs": [
    {
     "name": "stdout",
     "output_type": "stream",
     "text": [
      "Hello World\n",
      "I am 36 years old.\n"
     ]
    }
   ],
   "source": [
    "# Section 1 - Input, Output & Simple Calculations\n",
    "# Example 2 – Output using a complex print( ) statement\n",
    "\n",
    "print(\"Hello World\")\n",
    "print(\"I am\",36,\"years old.\")"
   ]
  },
  {
   "cell_type": "code",
   "execution_count": 5,
   "metadata": {},
   "outputs": [
    {
     "name": "stdout",
     "output_type": "stream",
     "text": [
      "Please enter your name.\n",
      "prem\n"
     ]
    }
   ],
   "source": [
    "# Section 1 - Input, Output & Simple Calculations\n",
    "# Example 3 – Keyboard input using a simple input( ) statement\n",
    "\n",
    "print(\"Please enter your name.\")\n",
    "userName = input( )"
   ]
  },
  {
   "cell_type": "code",
   "execution_count": 6,
   "metadata": {},
   "outputs": [
    {
     "name": "stdout",
     "output_type": "stream",
     "text": [
      "Please enter your name.dd\n",
      "Hello dd\n"
     ]
    }
   ],
   "source": [
    "# Section 1 - Input, Output & Simple Calculations\n",
    "# Example 4 – Keyboard Input, With a Message to the User\n",
    "\n",
    "userName = input(\"Please enter your name.\")\n",
    "print(\"Hello\",userName)"
   ]
  },
  {
   "cell_type": "code",
   "execution_count": 7,
   "metadata": {},
   "outputs": [
    {
     "name": "stdout",
     "output_type": "stream",
     "text": [
      "Where are you?ekm\n",
      "What hour is it? 21 \n",
      "What is the temperature?100\n",
      "It is 100.0 degrees at 21 hours in ekm\n"
     ]
    }
   ],
   "source": [
    "# Section 1 - Input, Output & Simple Calculations\n",
    "# Example 5 - Inputting the Correct Data Type\n",
    "\n",
    "location = str(input(\"Where are you?\"))\n",
    "hour = int(input(\"What hour is it?\"))\n",
    "temp = float(input(\"What is the temperature?\"))\n",
    "print(\"It is\", temp , \"degrees at\" , hour , \"hours in\" , location)"
   ]
  },
  {
   "cell_type": "code",
   "execution_count": 8,
   "metadata": {},
   "outputs": [
    {
     "name": "stdout",
     "output_type": "stream",
     "text": [
      "What is your first name?prem\n",
      "What is your surname?sankar\n",
      "prem sankar\n",
      "premsankar\n"
     ]
    }
   ],
   "source": [
    "# Section 1 - Input, Output & Simple Calculations\n",
    "# Example 6 - Concatenation\n",
    "\n",
    "firstName = str(input(\"What is your first name?\"))\n",
    "surname = str(input(\"What is your surname?\"))\n",
    "print(firstName,surname)\n",
    "print(firstName+surname)"
   ]
  },
  {
   "cell_type": "code",
   "execution_count": 9,
   "metadata": {},
   "outputs": [
    {
     "name": "stdout",
     "output_type": "stream",
     "text": [
      "68\n"
     ]
    }
   ],
   "source": [
    "# Section 1 - Input, Output & Simple Calculations\n",
    "# Example 7 - A Simple Addition\n",
    "\n",
    "print (23 + 45)"
   ]
  },
  {
   "cell_type": "code",
   "execution_count": 10,
   "metadata": {},
   "outputs": [
    {
     "name": "stdout",
     "output_type": "stream",
     "text": [
      "Please enter the number of cats.55\n",
      "Please enter the number of dogs.55\n",
      "The total number of animals is 110\n"
     ]
    }
   ],
   "source": [
    "# Section 1 - Input, Output & Simple Calculations\n",
    "# Example 8 - A Simple Calculation Using Variables\n",
    "\n",
    "cats = int(input(\"Please enter the number of cats.\"))\n",
    "dogs = int(input(\"Please enter the number of dogs.\"))\n",
    "total = cats + dogs\n",
    "print(\"The total number of animals is\", total)"
   ]
  },
  {
   "cell_type": "code",
   "execution_count": 11,
   "metadata": {},
   "outputs": [
    {
     "name": "stdout",
     "output_type": "stream",
     "text": [
      "10\n",
      "4.0\n"
     ]
    }
   ],
   "source": [
    "# Section 1 - Input, Output & Simple Calculations\n",
    "# Example 9 - Basic Maths Rules Apply in Programming Too\n",
    "\n",
    "answer = 4 + 2 * 3\n",
    "answer2 = (10 + 2) / 3\n",
    "print (answer)\n",
    "print (answer2)"
   ]
  },
  {
   "cell_type": "code",
   "execution_count": 12,
   "metadata": {},
   "outputs": [
    {
     "name": "stdout",
     "output_type": "stream",
     "text": [
      "7.5\n",
      "2.5\n",
      "8\n"
     ]
    }
   ],
   "source": [
    "# Section 1 - Input, Output & Simple Calculations\n",
    "# Example 10 – Data Types, int( ) and float( )\n",
    "\n",
    "number = 5 + 2.5\n",
    "print (number)\n",
    "number2 = number/3\n",
    "print (number2)\n",
    "number3 = int(number2) * 4\n",
    "print (number3)"
   ]
  },
  {
   "cell_type": "code",
   "execution_count": 13,
   "metadata": {},
   "outputs": [
    {
     "name": "stdout",
     "output_type": "stream",
     "text": [
      "es\n"
     ]
    }
   ],
   "source": [
    "# Section 1 - Input, Output & Simple Calculations\n",
    "# Example 11 – Using Sub-String to Extract Part of a String\n",
    "\n",
    "word = \"testing\"\n",
    "word2 = word[1:3]\n",
    "print (word2)"
   ]
  },
  {
   "cell_type": "code",
   "execution_count": 14,
   "metadata": {},
   "outputs": [
    {
     "name": "stdout",
     "output_type": "stream",
     "text": [
      "Most Ex\n",
      "lle\n",
      "Mos\n",
      "Excellent\n"
     ]
    }
   ],
   "source": [
    "# Section 1 - Input, Output & Simple Calculations\n",
    "# Example 11b – Using Sub-String to Extract Part of a String\n",
    "\n",
    "comment = \"Most Excellent\"\n",
    "part1 = comment[0:7]\n",
    "print (part1)\n",
    "print (comment[-5:-2])\n",
    "print (comment[:3])\n",
    "print (comment[-9:])"
   ]
  },
  {
   "cell_type": "code",
   "execution_count": 15,
   "metadata": {},
   "outputs": [
    {
     "name": "stdout",
     "output_type": "stream",
     "text": [
      "the answer is forty two\n",
      "THE ANSWER IS FORTY TWO\n"
     ]
    }
   ],
   "source": [
    "# Section 1 - Input, Output & Simple Calculations\n",
    "# Example 12 – Changing the case of text\n",
    "\n",
    "quotation = \"The answer is Forty Two\"\n",
    "smallQuotation = quotation.lower()\n",
    "print (smallQuotation)\n",
    "print (quotation.upper())"
   ]
  },
  {
   "cell_type": "code",
   "execution_count": 16,
   "metadata": {},
   "outputs": [
    {
     "name": "stdout",
     "output_type": "stream",
     "text": [
      "There are 39 characters in the sentence.\n"
     ]
    }
   ],
   "source": [
    "# Section 1 - Input, Output & Simple Calculations\n",
    "# Example 13 – Calculating the Number of Characters in a String\n",
    "\n",
    "sentence = \"I never could get the hang of Thursdays\"\n",
    "print (\"There are\", len(sentence),\"characters in the sentence.\")"
   ]
  },
  {
   "cell_type": "code",
   "execution_count": 17,
   "metadata": {},
   "outputs": [
    {
     "name": "stdout",
     "output_type": "stream",
     "text": [
      "2\n"
     ]
    }
   ],
   "source": [
    "# Section 1 - Input, Output & Simple Calculations\n",
    "# Example 14 – Counting the Occurrence of One String in Another\n",
    "\n",
    "sentence = \"Six rain ridden summers\"\n",
    "print (sentence.count(\"s\"))"
   ]
  },
  {
   "cell_type": "code",
   "execution_count": 18,
   "metadata": {},
   "outputs": [
    {
     "name": "stdout",
     "output_type": "stream",
     "text": [
      "Work Well, Study Well\n"
     ]
    }
   ],
   "source": [
    "# Section 1 - Input, Output & Simple Calculations\n",
    "# Example 15 – Replacing Text Within a String\n",
    "\n",
    "motto = \"Work Hard, Study Hard\"\n",
    "newMotto = motto.replace(\"Hard\",\"Well\")\n",
    "print(newMotto)"
   ]
  },
  {
   "cell_type": "code",
   "execution_count": 19,
   "metadata": {},
   "outputs": [
    {
     "name": "stdout",
     "output_type": "stream",
     "text": [
      "4.7\n"
     ]
    }
   ],
   "source": [
    "# Section 1 - Input, Output & Simple Calculations\n",
    "# Example 16 – Rounding Decimal Numbers\n",
    "\n",
    "number = round(4.6783,1)\n",
    "print(number)"
   ]
  },
  {
   "cell_type": "code",
   "execution_count": 20,
   "metadata": {},
   "outputs": [
    {
     "name": "stdout",
     "output_type": "stream",
     "text": [
      "4\n"
     ]
    }
   ],
   "source": [
    "# Section 1 - Input, Output & Simple Calculations\n",
    "# Example 17 – Truncating a Decimal number\n",
    "\n",
    "number = 4.6783\n",
    "print(int(number))"
   ]
  },
  {
   "cell_type": "code",
   "execution_count": 21,
   "metadata": {},
   "outputs": [
    {
     "name": "stdout",
     "output_type": "stream",
     "text": [
      "5\n"
     ]
    }
   ],
   "source": [
    "# Section 1 - Input, Output & Simple Calculations\n",
    "# Example 18 – Always Rounding Up\n",
    "\n",
    "import math\n",
    "number = math.ceil(4.2045)\n",
    "print(number)"
   ]
  },
  {
   "cell_type": "code",
   "execution_count": 22,
   "metadata": {},
   "outputs": [
    {
     "name": "stdout",
     "output_type": "stream",
     "text": [
      "3\n"
     ]
    }
   ],
   "source": [
    "# Section 1 - Input, Output & Simple Calculations\n",
    "# Example 19 – Modulus, Calculating the Remainder\n",
    "\n",
    "leftOver = 13%5\n",
    "print(leftOver)"
   ]
  },
  {
   "cell_type": "code",
   "execution_count": 23,
   "metadata": {},
   "outputs": [
    {
     "name": "stdout",
     "output_type": "stream",
     "text": [
      "16\n"
     ]
    }
   ],
   "source": [
    "# Section 1 - Input, Output & Simple Calculations\n",
    "# Example 20 – To the power of\n",
    "\n",
    "print(pow(4,2))"
   ]
  },
  {
   "cell_type": "code",
   "execution_count": null,
   "metadata": {},
   "outputs": [],
   "source": []
  }
 ],
 "metadata": {
  "kernelspec": {
   "display_name": "Python 3",
   "language": "python",
   "name": "python3"
  },
  "language_info": {
   "codemirror_mode": {
    "name": "ipython",
    "version": 3
   },
   "file_extension": ".py",
   "mimetype": "text/x-python",
   "name": "python",
   "nbconvert_exporter": "python",
   "pygments_lexer": "ipython3",
   "version": "3.7.0"
  }
 },
 "nbformat": 4,
 "nbformat_minor": 4
}
