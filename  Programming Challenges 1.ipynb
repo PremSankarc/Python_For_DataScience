{
 "cells": [
  {
   "cell_type": "markdown",
   "metadata": {},
   "source": [
    "# Programming Challenges 1 "
   ]
  },
  {
   "cell_type": "markdown",
   "metadata": {},
   "source": [
    "#  Input Output Challenges"
   ]
  },
  {
   "cell_type": "code",
   "execution_count": 6,
   "metadata": {},
   "outputs": [
    {
     "name": "stdout",
     "output_type": "stream",
     "text": [
      "Please enter your name?a\n",
      "What is your age?2\n",
      "What is your favourite TV program?d\n"
     ]
    }
   ],
   "source": [
    "## Three In, Three Out\n",
    "## Program 1\n",
    "## with comments\n",
    "\n",
    "## Three inputs to store the answers to the questions\n",
    "## in three variables.\n",
    "\n",
    "name = str(input(\"Please enter your name?\"))\n",
    "age = int(input(\"What is your age?\"))\n",
    "tvProgram = str(input(\"What is your favourite TV program?\"))\n",
    "\n",
    "\n",
    "## Each output line requires its own print() statement.\n",
    "## There are therefore five print() statements.\n",
    "## Some of the lines will display text in inverted commas\n",
    "## while others display the data stored in our three variables\n",
    "\n",
    "# Prem is 36 years old and likes Tom and Jerry\n"
   ]
  },
  {
   "cell_type": "code",
   "execution_count": 3,
   "metadata": {},
   "outputs": [
    {
     "name": "stdout",
     "output_type": "stream",
     "text": [
      "a\n",
      "b\n",
      "b a\n"
     ]
    }
   ],
   "source": [
    "## Name Swapper\n",
    "## Program 2\n",
    "## with comments\n",
    "\n",
    "## In program 2 the user is asked to type in their name.\n",
    "## The user is not given a message this time so there is no text inside\n",
    "## the input() statement.\n",
    "\n",
    "## Challenge 2 shows the names being entered are shown on two lines.  From this\n",
    "## diagram we can work out that there should be two input commands.\n",
    "\n",
    "forename = str(input())\n",
    "surname = str(input())\n",
    "\n",
    "\n",
    "## The output is shown on one line so only one print() is required.\n",
    "## We can swap the name by printing the variables in a different order.\n",
    "\n",
    "\n",
    "\n",
    "## Note that printing two variables requires a , or + between them.\n",
    "## A comma will produce the space between the stored names when they are displayed."
   ]
  },
  {
   "cell_type": "code",
   "execution_count": 8,
   "metadata": {},
   "outputs": [
    {
     "name": "stdout",
     "output_type": "stream",
     "text": [
      "The area of the rectangle is:\n"
     ]
    },
    {
     "ename": "NameError",
     "evalue": "name 'area' is not defined",
     "output_type": "error",
     "traceback": [
      "\u001b[0;31m---------------------------------------------------------------------------\u001b[0m",
      "\u001b[0;31mNameError\u001b[0m                                 Traceback (most recent call last)",
      "\u001b[0;32m<ipython-input-8-bbccad05c6e1>\u001b[0m in \u001b[0;36m<module>\u001b[0;34m\u001b[0m\n\u001b[1;32m     17\u001b[0m \u001b[0;34m\u001b[0m\u001b[0m\n\u001b[1;32m     18\u001b[0m \u001b[0mprint\u001b[0m \u001b[0;34m(\u001b[0m\u001b[0;34m\"The area of the rectangle is:\"\u001b[0m\u001b[0;34m)\u001b[0m\u001b[0;34m\u001b[0m\u001b[0;34m\u001b[0m\u001b[0m\n\u001b[0;32m---> 19\u001b[0;31m \u001b[0mprint\u001b[0m \u001b[0;34m(\u001b[0m\u001b[0marea\u001b[0m\u001b[0;34m,\u001b[0m\u001b[0;34m\"square centimetres\"\u001b[0m\u001b[0;34m)\u001b[0m\u001b[0;34m\u001b[0m\u001b[0;34m\u001b[0m\u001b[0m\n\u001b[0m",
      "\u001b[0;31mNameError\u001b[0m: name 'area' is not defined"
     ]
    }
   ],
   "source": [
    "## Calculating the Area of a Rectangle\n",
    "## Program 5\n",
    "## with comments\n",
    "\n",
    "## The input box shows that a message is first given to the user so a print()\n",
    "## statement is required at the beginning of the program.\n",
    "## The user is then asked for 2 inputs (length and width).\n",
    "\n",
    "\n",
    "\n",
    "## The length and width are then multiplied together to calculate the area.\n",
    "## To store the answer requires a third variable which we have called 'area'.\n",
    "\n",
    "\n",
    "\n",
    "## Finally the result of the calculation is displayed.\n",
    "\n",
    "print (\"The area of the rectangle is:\")\n",
    "print (area,\"square centimetres\")"
   ]
  },
  {
   "cell_type": "code",
   "execution_count": 9,
   "metadata": {},
   "outputs": [
    {
     "ename": "NameError",
     "evalue": "name 'letters' is not defined",
     "output_type": "error",
     "traceback": [
      "\u001b[0;31m---------------------------------------------------------------------------\u001b[0m",
      "\u001b[0;31mNameError\u001b[0m                                 Traceback (most recent call last)",
      "\u001b[0;32m<ipython-input-9-15669cac76e4>\u001b[0m in \u001b[0;36m<module>\u001b[0;34m\u001b[0m\n\u001b[1;32m     13\u001b[0m \u001b[0;31m## are displayed as part of a message.\u001b[0m\u001b[0;34m\u001b[0m\u001b[0;34m\u001b[0m\u001b[0;34m\u001b[0m\u001b[0m\n\u001b[1;32m     14\u001b[0m \u001b[0;34m\u001b[0m\u001b[0m\n\u001b[0;32m---> 15\u001b[0;31m \u001b[0mprint\u001b[0m \u001b[0;34m(\u001b[0m\u001b[0;34m\"There are\"\u001b[0m\u001b[0;34m,\u001b[0m\u001b[0mletters\u001b[0m\u001b[0;34m,\u001b[0m\u001b[0;34m\"letters in your name.\"\u001b[0m\u001b[0;34m)\u001b[0m\u001b[0;34m\u001b[0m\u001b[0;34m\u001b[0m\u001b[0m\n\u001b[0m\u001b[1;32m     16\u001b[0m \u001b[0;34m\u001b[0m\u001b[0m\n\u001b[1;32m     17\u001b[0m \u001b[0;31m## NOTE\u001b[0m\u001b[0;34m\u001b[0m\u001b[0;34m\u001b[0m\u001b[0;34m\u001b[0m\u001b[0m\n",
      "\u001b[0;31mNameError\u001b[0m: name 'letters' is not defined"
     ]
    }
   ],
   "source": [
    "## Name Length\n",
    "## Program 8\n",
    "## with comments\n",
    "\n",
    "## The user is prompted to type in a forename and surname.\n",
    "\n",
    "\n",
    "## The len() function is used to calculate the number of\n",
    "## characters stored in the forename and surname variables.\n",
    "\n",
    "\n",
    "## The number of characters, now stored in the letters variable\n",
    "## are displayed as part of a message.\n",
    "\n",
    "print (\"There are\",letters,\"letters in your name.\")\n",
    "\n",
    "## NOTE\n",
    "## The last two lines of the program could be combined.\n",
    "##    print (\"There are\",len(forename+surname),\"letters in your name.\")"
   ]
  },
  {
   "cell_type": "code",
   "execution_count": 11,
   "metadata": {},
   "outputs": [
    {
     "name": "stdout",
     "output_type": "stream",
     "text": [
      "Please enter the product name.prem\n",
      "Please enter the year.a\n",
      "The stock code for prem is:\n",
      "0\n"
     ]
    }
   ],
   "source": [
    "## Stock Code Generator\n",
    "## Program 11\n",
    "## with comments\n",
    "\n",
    "## The user is asked to enter a product name and year as strings.\n",
    "productName = str(input(\"Please enter the product name.\"))\n",
    "productYear = str(input(\"Please enter the year.\"))\n",
    "\n",
    "## The stock code is calculated by concatenating sub-strings.\n",
    "# First 2 letter of name + Last 2 letters of name + 1st digit of Year + Last digit of  year \n",
    "stockCode = 0\n",
    "## The output is displayed.\n",
    "print (\"The stock code for\",productName,\"is:\")\n",
    "print (stockCode)"
   ]
  },
  {
   "cell_type": "code",
   "execution_count": 12,
   "metadata": {},
   "outputs": [
    {
     "name": "stdout",
     "output_type": "stream",
     "text": [
      "Please enter your three costs.\n",
      "5\n",
      "l\n"
     ]
    },
    {
     "ename": "ValueError",
     "evalue": "could not convert string to float: 'l'",
     "output_type": "error",
     "traceback": [
      "\u001b[0;31m---------------------------------------------------------------------------\u001b[0m",
      "\u001b[0;31mValueError\u001b[0m                                Traceback (most recent call last)",
      "\u001b[0;32m<ipython-input-12-26bcbdaf8033>\u001b[0m in \u001b[0;36m<module>\u001b[0;34m\u001b[0m\n\u001b[1;32m     10\u001b[0m \u001b[0mprint\u001b[0m \u001b[0;34m(\u001b[0m\u001b[0;34m\"Please enter your three costs.\"\u001b[0m\u001b[0;34m)\u001b[0m\u001b[0;34m\u001b[0m\u001b[0;34m\u001b[0m\u001b[0m\n\u001b[1;32m     11\u001b[0m \u001b[0mcost1\u001b[0m \u001b[0;34m=\u001b[0m \u001b[0mfloat\u001b[0m\u001b[0;34m(\u001b[0m\u001b[0minput\u001b[0m\u001b[0;34m(\u001b[0m\u001b[0;34m)\u001b[0m\u001b[0;34m)\u001b[0m\u001b[0;34m\u001b[0m\u001b[0;34m\u001b[0m\u001b[0m\n\u001b[0;32m---> 12\u001b[0;31m \u001b[0mcost2\u001b[0m \u001b[0;34m=\u001b[0m \u001b[0mfloat\u001b[0m\u001b[0;34m(\u001b[0m\u001b[0minput\u001b[0m\u001b[0;34m(\u001b[0m\u001b[0;34m)\u001b[0m\u001b[0;34m)\u001b[0m\u001b[0;34m\u001b[0m\u001b[0;34m\u001b[0m\u001b[0m\n\u001b[0m\u001b[1;32m     13\u001b[0m \u001b[0mcost3\u001b[0m \u001b[0;34m=\u001b[0m \u001b[0mfloat\u001b[0m\u001b[0;34m(\u001b[0m\u001b[0minput\u001b[0m\u001b[0;34m(\u001b[0m\u001b[0;34m)\u001b[0m\u001b[0;34m)\u001b[0m\u001b[0;34m\u001b[0m\u001b[0;34m\u001b[0m\u001b[0m\n\u001b[1;32m     14\u001b[0m \u001b[0;34m\u001b[0m\u001b[0m\n",
      "\u001b[0;31mValueError\u001b[0m: could not convert string to float: 'l'"
     ]
    }
   ],
   "source": [
    "## Auction Fee\n",
    "## Program 12\n",
    "## with commments\n",
    "\n",
    "## The user is asked to input three costs:\n",
    "\n",
    "## NOTE - Float variables should be used as we will expect the\n",
    "## user to input values with decimal places.\n",
    "\n",
    "print (\"Please enter your three costs.\")\n",
    "cost1 = float(input())\n",
    "cost2 = float(input())\n",
    "cost3 = float(input())\n",
    "\n",
    "## The costs must be totaled.\n",
    "\n",
    "\n",
    "## The fee is 10% of the total rounded to zero decimal places.\n",
    "\n",
    "\n",
    "## Display the results.\n",
    "print (\"The total cost is \"+str(total))\n",
    "print (\"The auction companies fee is \",str(fee))\n"
   ]
  },
  {
   "cell_type": "code",
   "execution_count": 16,
   "metadata": {},
   "outputs": [
    {
     "name": "stdout",
     "output_type": "stream",
     "text": [
      "Please enter the following values in cm\n",
      "Please enter the radius of a circle3\n",
      "The area of the circle is:\n",
      "0 square centimetres\n"
     ]
    }
   ],
   "source": [
    "## Calculating the Area of a Circle\n",
    "## Program 13\n",
    "## with comments\n",
    "\n",
    "## The input box shows that a message is first given to the user so a print()\n",
    "## statement is required at the beginning of the program.\n",
    "## The user is then asked for 1 input (radius).\n",
    "\n",
    "print (\"Please enter the following values in cm\")\n",
    "radius = int(input(\"Please enter the radius of a circle\"))\n",
    "\n",
    "\n",
    "## To calculate the area of a circle the radius should be\n",
    "## squared using the pow() function.\n",
    "\n",
    "area=0;\n",
    "\n",
    "## Finally the result of the calculation is displayed.\n",
    "\n",
    "print (\"The area of the circle is:\")\n",
    "print (area,\"square centimetres\")"
   ]
  },
  {
   "cell_type": "code",
   "execution_count": 17,
   "metadata": {},
   "outputs": [
    {
     "name": "stdout",
     "output_type": "stream",
     "text": [
      "Enter the number of carbon atoms?10\n",
      "The atomic mass of C10H22 is 142\n"
     ]
    }
   ],
   "source": [
    "## Calculating the Atomic Weight of Hydrocarbons (Alkanes)\n",
    "## Program 17\n",
    "## With Comments\n",
    "\n",
    "## The user is only asked for a single input this time.\n",
    "\n",
    "carbon = int(input(\"Enter the number of carbon atoms?\"))\n",
    "\n",
    "## The program uses the number of Carbon atoms to calculate the\n",
    "## number of Hydrogen Atoms and the Atomic Weight of the molecule.\n",
    "## These two values should be calculated and stored.\n",
    "\n",
    "hydrogen = (carbon*2) + 2\n",
    "atomicWeight = carbon*12 + hydrogen\n",
    "\n",
    "## The three stored values (carbon, hydrogen & atomicWeight) can now\n",
    "## be used in a single, complex print() statement to produce the output.\n",
    "\n",
    "print(\"The atomic mass of C\"+str(carbon)+\"H\"+str(hydrogen),\"is\",atomicWeight)\n",
    "\n",
    "## NOTE\n",
    "## To create an output that combines strings and integers we must use the\n",
    "## string function, str(), to convert the integers to strings first.  This is\n",
    "## because Python will only concatenate strings.  Without the str() functions\n",
    "## in the above code, running the program would produce an error message."
   ]
  },
  {
   "cell_type": "code",
   "execution_count": 18,
   "metadata": {},
   "outputs": [
    {
     "name": "stdout",
     "output_type": "stream",
     "text": [
      "What is the circumference of the wheel in millimetre?3\n",
      "How many wheel revolutions have taken place in your journey?2\n",
      "How many minutes did you cycle for?0\n"
     ]
    },
    {
     "ename": "NameError",
     "evalue": "name 'distance' is not defined",
     "output_type": "error",
     "traceback": [
      "\u001b[0;31m---------------------------------------------------------------------------\u001b[0m",
      "\u001b[0;31mNameError\u001b[0m                                 Traceback (most recent call last)",
      "\u001b[0;32m<ipython-input-18-482b284ea46a>\u001b[0m in \u001b[0;36m<module>\u001b[0;34m\u001b[0m\n\u001b[1;32m     24\u001b[0m \u001b[0;34m\u001b[0m\u001b[0m\n\u001b[1;32m     25\u001b[0m \u001b[0;31m## The results can then be displayed.\u001b[0m\u001b[0;34m\u001b[0m\u001b[0;34m\u001b[0m\u001b[0;34m\u001b[0m\u001b[0m\n\u001b[0;32m---> 26\u001b[0;31m \u001b[0mprint\u001b[0m \u001b[0;34m(\u001b[0m\u001b[0;34m\"You covered\"\u001b[0m\u001b[0;34m,\u001b[0m\u001b[0mdistance\u001b[0m\u001b[0;34m,\u001b[0m\u001b[0;34m\"km.\"\u001b[0m\u001b[0;34m)\u001b[0m\u001b[0;34m\u001b[0m\u001b[0;34m\u001b[0m\u001b[0m\n\u001b[0m\u001b[1;32m     27\u001b[0m \u001b[0mprint\u001b[0m \u001b[0;34m(\u001b[0m\u001b[0;34m\"At an average speed of\"\u001b[0m\u001b[0;34m,\u001b[0m\u001b[0mspeed\u001b[0m\u001b[0;34m,\u001b[0m\u001b[0;34m\"kmph.\"\u001b[0m\u001b[0;34m)\u001b[0m\u001b[0;34m\u001b[0m\u001b[0;34m\u001b[0m\u001b[0m\n",
      "\u001b[0;31mNameError\u001b[0m: name 'distance' is not defined"
     ]
    }
   ],
   "source": [
    "## Cycling Speed\n",
    "## Program 19\n",
    "## with comments\n",
    "\n",
    "## The user should be asked to enter the bikes wheel circumference,\n",
    "## number of wheel revolution and the number of minutes the journey\n",
    "## lasted.\n",
    "\n",
    "circumference = int(input(\"What is the circumference of the wheel in millimetre?\"))\n",
    "revolutions = int(input(\"How many wheel revolutions have taken place in your journey?\"))\n",
    "minutes = int(input(\"How many minutes did you cycle for?\"))\n",
    "\n",
    "## To calculate the speed, the distance and time must be calculated\n",
    "## and converted to the correct units.\n",
    "\n",
    "## There are 1000mm in a metre and 1000 metres in a kilometre.\n",
    "#(circumference*revolutions)/1000/1000\n",
    "\n",
    "## There are 60 minutes in 1 hour.\n",
    "#time = minutes/60\n",
    "\n",
    "## Speed can then be calcuated.\n",
    "#speed = distance/time\n",
    "\n",
    "## The results can then be displayed.\n",
    "print (\"You covered\",distance,\"km.\")\n",
    "print (\"At an average speed of\",speed,\"kmph.\")"
   ]
  },
  {
   "cell_type": "code",
   "execution_count": null,
   "metadata": {},
   "outputs": [],
   "source": []
  }
 ],
 "metadata": {
  "kernelspec": {
   "display_name": "Python 3",
   "language": "python",
   "name": "python3"
  },
  "language_info": {
   "codemirror_mode": {
    "name": "ipython",
    "version": 3
   },
   "file_extension": ".py",
   "mimetype": "text/x-python",
   "name": "python",
   "nbconvert_exporter": "python",
   "pygments_lexer": "ipython3",
   "version": "3.8.3"
  }
 },
 "nbformat": 4,
 "nbformat_minor": 4
}
