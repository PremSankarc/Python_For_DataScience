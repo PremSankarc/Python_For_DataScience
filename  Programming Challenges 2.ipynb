{
 "cells": [
  {
   "cell_type": "markdown",
   "metadata": {},
   "source": [
    "# Programming Challenges 2"
   ]
  },
  {
   "cell_type": "markdown",
   "metadata": {},
   "source": [
    "# Selection Challenges"
   ]
  },
  {
   "cell_type": "code",
   "execution_count": 6,
   "metadata": {},
   "outputs": [
    {
     "name": "stdout",
     "output_type": "stream",
     "text": [
      "Would you like some advice?n\n"
     ]
    }
   ],
   "source": [
    "## Advice Please\n",
    "## Program 20\n",
    "## with comments\n",
    "\n",
    "## The user is asked to input the answer to a question:\n",
    "\n",
    "advice = str(input(\"Would you like some advice?\"))\n",
    "\n",
    "## The program now makes a decision.\n",
    "## If the user enters 'Y' the program should display a messgage.\n",
    "\n",
    "\n",
    "## If anything else is entered nothing will happen.  In programming\n",
    "## doing nothing is easy.  You simply don't write any more code."
   ]
  },
  {
   "cell_type": "code",
   "execution_count": 2,
   "metadata": {},
   "outputs": [
    {
     "name": "stdout",
     "output_type": "stream",
     "text": [
      "What is Black's score?5\n",
      "What is White's score?5\n",
      "After 6.5 is added the score is:\n"
     ]
    }
   ],
   "source": [
    "## Go Winner\n",
    "## Program 21\n",
    "## with comments\n",
    "\n",
    "## The user is asked to input the scores for each player:\n",
    "\n",
    "black = int(input(\"What is Black's score?\"))\n",
    "white = int(input(\"What is White's score?\"))\n",
    "\n",
    "## The problem states that white gets an additional 6.5 points\n",
    "## at the end of the game.\n",
    "\n",
    "white = white + 6.5\n",
    "\n",
    "## Each score is then displayed.\n",
    "print(\"After 6.5 is added the score is:\")\n",
    "\n",
    "\n",
    "## The program compares the two player's scores and displays a\n",
    "## different message depending on the result.\n",
    "\n",
    "\n",
    "\n",
    "\n",
    "## Note that the above if statements could be combined into a\n",
    "## single more efficient solution.\n"
   ]
  },
  {
   "cell_type": "code",
   "execution_count": 3,
   "metadata": {},
   "outputs": [
    {
     "name": "stdout",
     "output_type": "stream",
     "text": [
      "Please enter the first amount of money raised.5\n",
      "Please enter the second amount of money raised.5\n",
      "Please enter the third amount of money raised.4\n"
     ]
    },
    {
     "ename": "NameError",
     "evalue": "name 'total' is not defined",
     "output_type": "error",
     "traceback": [
      "\u001b[0;31m---------------------------------------------------------------------------\u001b[0m",
      "\u001b[0;31mNameError\u001b[0m                                 Traceback (most recent call last)",
      "\u001b[0;32m<ipython-input-3-4387c431cd41>\u001b[0m in \u001b[0;36m<module>\u001b[0;34m\u001b[0m\n\u001b[1;32m     17\u001b[0m \u001b[0;31m## the total to a string).\u001b[0m\u001b[0;34m\u001b[0m\u001b[0;34m\u001b[0m\u001b[0;34m\u001b[0m\u001b[0m\n\u001b[1;32m     18\u001b[0m \u001b[0;34m\u001b[0m\u001b[0m\n\u001b[0;32m---> 19\u001b[0;31m \u001b[0mprint\u001b[0m \u001b[0;34m(\u001b[0m\u001b[0;34m\"A total of £\"\u001b[0m\u001b[0;34m+\u001b[0m\u001b[0mstr\u001b[0m\u001b[0;34m(\u001b[0m\u001b[0mtotal\u001b[0m\u001b[0;34m)\u001b[0m\u001b[0;34m,\u001b[0m\u001b[0;34m\"was raised.\"\u001b[0m\u001b[0;34m)\u001b[0m\u001b[0;34m\u001b[0m\u001b[0;34m\u001b[0m\u001b[0m\n\u001b[0m\u001b[1;32m     20\u001b[0m \u001b[0;34m\u001b[0m\u001b[0m\n\u001b[1;32m     21\u001b[0m \u001b[0;31m## The program then displays a second message if the total is greater\u001b[0m\u001b[0;34m\u001b[0m\u001b[0;34m\u001b[0m\u001b[0;34m\u001b[0m\u001b[0m\n",
      "\u001b[0;31mNameError\u001b[0m: name 'total' is not defined"
     ]
    }
   ],
   "source": [
    "## Charity Collection\n",
    "## Program 22\n",
    "## With Comments\n",
    "\n",
    "## The user is asked to input three amounts of money raised so\n",
    "## three inputs required:\n",
    "\n",
    "first = int(input(\"Please enter the first amount of money raised.\"))\n",
    "second = int(input(\"Please enter the second amount of money raised.\"))\n",
    "third = int(input(\"Please enter the third amount of money raised.\"))\n",
    "\n",
    "## The program then calculates and stores the total.\n",
    "\n",
    "\n",
    "## The total is then displayed.  \n",
    "## to the amount raised we must use concatenation (and therefore convert\n",
    "## the total to a string).\n",
    "\n",
    "print (\"A total of £\"+str(total),\"was raised.\")\n",
    "\n",
    "## The program then displays a second message if the total is greater\n",
    "## than or equal to 1000.  Note that in this second message the total raised\n",
    "## is multiplied by 2.\n",
    "\n"
   ]
  },
  {
   "cell_type": "code",
   "execution_count": 4,
   "metadata": {},
   "outputs": [
    {
     "name": "stdout",
     "output_type": "stream",
     "text": [
      "Rectangle 1\n",
      "Please enter the length:5\n",
      "Please enter the width:5\n",
      "Rectangle 2\n",
      "Please enter the length:54\n",
      "Please enter the width:4\n"
     ]
    }
   ],
   "source": [
    "## Calculating the Area of a Rectangle (Part 2)\n",
    "## Program 23\n",
    "## with comments\n",
    "\n",
    "## The user is asked for two inputs (length and width) for\n",
    "## both rectangles.\n",
    "\n",
    "print (\"Rectangle 1\")\n",
    "length1 = int(input(\"Please enter the length:\"))\n",
    "width1 = int(input(\"Please enter the width:\"))\n",
    "\n",
    "print (\"Rectangle 2\")\n",
    "length2 = int(input(\"Please enter the length:\"))\n",
    "width2 = int(input(\"Please enter the width:\"))\n",
    "\n",
    "## The length and width are then multiplied together for each\n",
    "## rectangle.\n",
    "\n",
    "\n",
    "## An if statement is used to decide which rectangle is largest\n",
    "## and display the result.\n",
    "\n",
    "\n",
    "\n",
    "## Note regarding the two sets of inputs.\n",
    "## Note that different variable names must be used for each.\n",
    "## rectangle.  If the same variables are used the width and\n",
    "## length of the second rectangle will overwrite the values\n",
    "## stored for the first rectangle."
   ]
  },
  {
   "cell_type": "code",
   "execution_count": 5,
   "metadata": {},
   "outputs": [
    {
     "ename": "IndentationError",
     "evalue": "unexpected indent (<ipython-input-5-3ea60d036993>, line 17)",
     "output_type": "error",
     "traceback": [
      "\u001b[0;36m  File \u001b[0;32m\"<ipython-input-5-3ea60d036993>\"\u001b[0;36m, line \u001b[0;32m17\u001b[0m\n\u001b[0;31m    print (\"Sorry, you were asked to enter Y or N.\")\u001b[0m\n\u001b[0m    ^\u001b[0m\n\u001b[0;31mIndentationError\u001b[0m\u001b[0;31m:\u001b[0m unexpected indent\n"
     ]
    }
   ],
   "source": [
    "## Advice Please (Part 2)\n",
    "## Program 25\n",
    "## With comments\n",
    "\n",
    "## The user is asked to input the answer to a question:\n",
    "\n",
    "advice = str(input(\"Would you like some advice?\"))\n",
    "\n",
    "## The program now makes a decision.\n",
    "## If the user enters 'Y' or 'N' the program should display a messgage.\n",
    "\n",
    "\n",
    "## Any input (other than Y or N) should result in a different\n",
    "## message being displayed.\n",
    "\n",
    "\n",
    "    print (\"Sorry, you were asked to enter Y or N.\")\n",
    "\n",
    "## The 'and' operator is used because we want both parts of the\n",
    "## condition to be true (not Y AND not N) before the second\n",
    "## message is displayed."
   ]
  }
 ],
 "metadata": {
  "kernelspec": {
   "display_name": "Python 3",
   "language": "python",
   "name": "python3"
  },
  "language_info": {
   "codemirror_mode": {
    "name": "ipython",
    "version": 3
   },
   "file_extension": ".py",
   "mimetype": "text/x-python",
   "name": "python",
   "nbconvert_exporter": "python",
   "pygments_lexer": "ipython3",
   "version": "3.8.3"
  }
 },
 "nbformat": 4,
 "nbformat_minor": 4
}
